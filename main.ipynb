{
 "cells": [
  {
   "cell_type": "code",
   "execution_count": 2,
   "id": "589e100e",
   "metadata": {},
   "outputs": [],
   "source": [
    "import pandas as pd\n",
    "import numpy as np\n",
    "import matplotlib.pyplot as plt\n",
    "import seaborn as sns\n",
    "from sklearn.model_selection import train_test_split\n",
    "from sklearn.preprocessing import StandardScaler\n",
    "from sklearn.linear_model import LogisticRegression\n",
    "from sklearn.ensemble import RandomForestClassifier\n",
    "from lightgbm import LGBMClassifier\n",
    "from sklearn.metrics import classification_report, confusion_matrix, roc_auc_score, roc_curve\n",
    "import pickle\n",
    "from sklearn.preprocessing import LabelEncoder\n",
    "import os\n",
    "import re"
   ]
  },
  {
   "cell_type": "code",
   "execution_count": 3,
   "id": "f6711662",
   "metadata": {},
   "outputs": [],
   "source": [
    "df = pd.read_csv(\"deepq_ai_assignment1_data.csv\")"
   ]
  },
  {
   "cell_type": "code",
   "execution_count": 4,
   "id": "7365adf1",
   "metadata": {},
   "outputs": [
    {
     "data": {
      "text/plain": [
       "(167020, 217)"
      ]
     },
     "execution_count": 4,
     "metadata": {},
     "output_type": "execute_result"
    }
   ],
   "source": [
    "df.shape"
   ]
  },
  {
   "cell_type": "code",
   "execution_count": 5,
   "id": "d69d0f77",
   "metadata": {},
   "outputs": [
    {
     "data": {
      "text/plain": [
       "UID      object\n",
       "X0       object\n",
       "X1      float64\n",
       "X2       object\n",
       "X3       object\n",
       "         ...   \n",
       "X211    float64\n",
       "X212    float64\n",
       "X213    float64\n",
       "X214    float64\n",
       "X215    float64\n",
       "Length: 217, dtype: object"
      ]
     },
     "execution_count": 5,
     "metadata": {},
     "output_type": "execute_result"
    }
   ],
   "source": [
    "df.dtypes.head(217)"
   ]
  },
  {
   "cell_type": "markdown",
   "id": "6c39a5e6",
   "metadata": {},
   "source": [
    "## Preprocessing"
   ]
  },
  {
   "cell_type": "code",
   "execution_count": 6,
   "id": "dcf5129a",
   "metadata": {},
   "outputs": [],
   "source": [
    "df['Target_ChurnFlag'] = df['Target_ChurnFlag'].astype(int)"
   ]
  },
  {
   "cell_type": "code",
   "execution_count": 7,
   "id": "fb1170f5",
   "metadata": {},
   "outputs": [
    {
     "name": "stdout",
     "output_type": "stream",
     "text": [
      "Target_ChurnFlag\n",
      "0    100101\n",
      "1     66919\n",
      "Name: count, dtype: int64\n"
     ]
    }
   ],
   "source": [
    "print(df['Target_ChurnFlag'].value_counts())"
   ]
  },
  {
   "cell_type": "code",
   "execution_count": 8,
   "id": "9ff76510",
   "metadata": {},
   "outputs": [
    {
     "name": "stdout",
     "output_type": "stream",
     "text": [
      "Numeric Columns: Index(['X1', 'X101', 'X102', 'X103', 'X104', 'X105', 'X106', 'X107', 'X109',\n",
      "       'X11',\n",
      "       ...\n",
      "       'X89', 'X90', 'X91', 'X92', 'X93', 'X94', 'X95', 'X96', 'X97', 'X98'],\n",
      "      dtype='object', length=185)\n",
      "Categorical Columns: Index(['X0', 'X100', 'X108', 'X149', 'X150', 'X151', 'X152', 'X154', 'X155',\n",
      "       'X156', 'X157', 'X158', 'X16', 'X164', 'X165', 'X169', 'X170', 'X18',\n",
      "       'X2', 'X3', 'X30', 'X31', 'X4', 'X5', 'X6', 'X7', 'X8', 'X9', 'X99'],\n",
      "      dtype='object')\n"
     ]
    }
   ],
   "source": [
    "# Identify Column Types\n",
    "exclude_cols = [col for col in ['UID', 'Target_ChurnFlag'] if col in df.columns]\n",
    "numeric_cols = df.select_dtypes(include=[np.number]).columns.difference(exclude_cols)\n",
    "categorical_cols = df.select_dtypes(include=['object', 'category']).columns.difference(exclude_cols)\n",
    "\n",
    "print(\"Numeric Columns:\", numeric_cols)\n",
    "print(\"Categorical Columns:\", categorical_cols)"
   ]
  },
  {
   "cell_type": "code",
   "execution_count": 9,
   "id": "13b08c0a",
   "metadata": {},
   "outputs": [
    {
     "name": "stdout",
     "output_type": "stream",
     "text": [
      "X0: ['14 month lease' '12 month lease' '13 month lease' '11 month lease'\n",
      " '3 month lease' '16 month lease' '15 month lease' '6 month lease'\n",
      " '4 month lease' '10 month lease' '7 month lease' '24 month'\n",
      " '8 month lease' '9 month lease' '18 month lease' '17 month lease'\n",
      " '14 month' '14  month lease' '1 month lease' '15 monh lease' '3 month'\n",
      " '14month lease' '2 month lease' '5 month lease' '12 Month Lease'\n",
      " '11 Month Lease' '15 Month Lease' '13 Month Lease' '10 Month Lease'\n",
      " '3 Month Lease' '6 Month Lease' '14 Month Lease' '16 month  lease'\n",
      " '13 mont lease' '13 Months' '13 month Lease' '14 month leases' '6 months'\n",
      " '13 months' '15 months' '14 months' '12 month Lease' '12 Month Term'\n",
      " '11 Month Term' '6 Month Term' '16 Month Term' '12 Month lease'\n",
      " '13 Month lease' '14 Month lease' '5 Month lease' '6 Month lease'\n",
      " '9 Month Lease' '8 Month Lease' '7 Month Lease' '24 month lease'\n",
      " '14 month Lease' '15 month Lease' '16 month Lease' '12  month lease'\n",
      " '3 months']\n",
      "X100: [nan 'Retired' 'Transportation' 'Professional' 'Medical'\n",
      " 'Full Time Homemaker' 'Student' 'Retail / Sales' 'Manufacturing'\n",
      " 'Agriculture' 'Education ' 'Finance / Accounting' 'Not applicable'\n",
      " 'Service Industry' 'Government' 'Construction' 'Technology' 'Military'\n",
      " 'Unemployed - looking' 'Law Enforcement' 'Entertainment Industry'\n",
      " 'Real Estate' 'Utilities' 'Minor-Child' 'Insurance' 'Mining'\n",
      " 'Full time homemaker' 'Accounting' 'Retail Sales' 'Unemployed'\n",
      " 'Hospitality' 'Medical / Healthcare' 'Arts And entertainment'\n",
      " 'Restaurant industry' 'Legal' 'Hotel industry' 'Self-employed'\n",
      " 'Sports / Athlete']\n",
      "X108: [nan 'Full Time Homemaker' 'Professional' 'Transportation'\n",
      " 'Service Industry' 'Retired' 'Medical' 'Student' 'Finance / Accounting'\n",
      " 'Manufacturing' 'Construction' 'Law Enforcement' 'Unemployed - looking'\n",
      " 'Agriculture' 'Retail / Sales' 'Military' 'Education ' 'Technology'\n",
      " 'Not applicable' 'Government' 'Real Estate' 'Entertainment Industry'\n",
      " 'Insurance' 'Utilities' 'Minor-Child' 'Mining' 'Full time homemaker'\n",
      " 'Retail Sales' 'Accounting' 'Unemployed' 'Minor Child' 'Hospitality'\n",
      " 'Medical / Healthcare' 'Arts And entertainment' 'Restaurant industry'\n",
      " 'Legal' 'Sports / Athlete' 'Hotel industry' 'Self-employed'\n",
      " 'Fulltime Police/Security']\n",
      "X149: ['ACTIVE']\n",
      "X150: ['Riverside' 'Huntington Beach' 'Costa Mesa' 'Newport Beach' 'Orlando'\n",
      " 'Tualatin' 'Renton' 'San Mateo' 'Salinas' 'Greenacres' 'St Petersburg'\n",
      " 'Woodbridge' 'Manassas' 'Austin' 'Tampa' 'Brandon' 'Clearwater'\n",
      " 'Temple Terrace' 'Orange' 'La Mirada' 'Santa Clara' 'Mountain View'\n",
      " 'San Rafael' 'San Francisco' 'Silver Spring' 'Arlington' 'Sanford'\n",
      " 'Winter Springs' 'Altamonte Springs' 'Winter Park' 'Chester' 'Hermitage'\n",
      " 'Franklin' 'Hendersonville' 'Madison' 'Nashville' 'Oviedo' 'Cedar Park'\n",
      " 'Mill Creek' 'Washington' 'Lake Oswego' 'Rancho Cucamonga' 'Seattle'\n",
      " 'Glen Allen' 'Richmond' 'Henrico' 'Dunedin' 'Alexandria' 'Bel Air'\n",
      " 'Dallas' 'Bellevue' 'Addison' 'Marina Del Rey' 'Towson' 'Plano' 'Everett'\n",
      " 'Mercer Island' 'San Jose' 'Baltimore' 'Anaheim' 'Braintree' 'Needham'\n",
      " 'Tewksbury' 'San Diego' 'Peabody' 'Woburn' 'New York' 'College Park'\n",
      " 'Mission Viejo' 'Boston' 'Denver' 'Herndon' 'Redmond' 'Brooklyn'\n",
      " 'King Of Prussia' 'Waltham' 'Englewood' 'Norwood']\n",
      "X151: ['CA' 'FL' 'OR' 'WA' 'VA' 'TX' 'MD' 'TN' 'DC' 'MA' 'NY' 'CO' 'PA' 'NJ']\n",
      "X152: ['92507-8463' '92646-8007' '92626-5300' '92626-4957' '92663-6031'\n",
      " '32822-3308' '32828-7004' '97062-6052' '98056-3903' '98056-8456'\n",
      " '94403-2111' '93906-3948' '93906-2861' '33413-3047' '33716-1708'\n",
      " '22192-7000' '22192-1759' '20110-6704' '92626' '78746-7948' '33613-5127'\n",
      " '33510-4025' '33765-1005' '33617-3301' '92867-4956' '90638-4254'\n",
      " '95051-3300' '94040-1991' '94903-4835' '94115-3500' '93906-1947'\n",
      " '93905-3278' '93906-3520' '93901-2148' '20906-6001' '22204-3054'\n",
      " '32771-6739' '32708-5320' '32701-3423' '32714-3253' '32714-1726'\n",
      " '32792-8011' '23831-7732' '37076-3246' '37067-8529' '37075-2872'\n",
      " '37115-6100' '37211-4781' '32765-5522' '37205-4656' '78613-1497' '93906'\n",
      " '37211-6945' '98012-2001' '20024-3854' '97035-3223' '95054-1782' '91730'\n",
      " '98105-4714' '23059-7000' '23238-4931' '23294-4845' '34698-8384'\n",
      " '78613-3593' '22305-2155' '94403-3000' '21015-6714' '37214-2335'\n",
      " '75204-1545' '98004' '20005' '75001' '94115' '22312' '90292' '21204'\n",
      " '22206-3427' '75024-3585' '94158' '98203' '98040' '95123' '78758-7737'\n",
      " '33606' '22191' '21224-5222' '92806-6053' '90292-5583' '02184-3852'\n",
      " '98004-4661' '02494-2833' '22213-1055' '02184-7373' '01876-1149'\n",
      " '92101-7209' '98004-4315' '21204-2546' '01960-8592' '94105-4401'\n",
      " '01801-5197' '75001-4017' '20009-4098' '10011-3221' '10016-4914'\n",
      " '10005-4201' '20005-4201' '20009-4502' '75001-4019' '92647-3511' '20740'\n",
      " '94158-1615' '92692-4942' '92648-3209' '02210-1887' '80206-5841'\n",
      " '98118-1702' '20171-4715' '22312-1631' '22311-4704' '20910-8200'\n",
      " '20910-7438' '22303-2245' '92648-8519' '98052-4094' '75001-4023'\n",
      " '02118-2265' '98118-2194' '11211-1382' '33702-1470' '19406-1565'\n",
      " '21212-1222' '33716-1600' '02453-8363' '07631-3588' '02062-2433']\n",
      "X154: ['Other SoCal' 'Orange County' 'Orlando' 'Portland, OR' 'Seattle,WA'\n",
      " 'SF Bay Area' 'Monterey (Salinas)' 'Other Florida' 'Tampa FL' 'Metro DC'\n",
      " 'Austin TX' 'LA County' 'Richmond' 'Nashville TN' 'Baltimore' 'Dallas TX'\n",
      " 'Boston' 'San Diego County' 'New York' 'Denver' 'Philadelphia']\n",
      "X155: ['B' 'A']\n",
      "X156: ['Garden' 'High Rise' 'Podium']\n",
      "X157: ['suburban' 'urban']\n",
      "X158: ['University City/Moreno Valley' 'Huntington Beach' 'Costa Mesa'\n",
      " 'Newport Beach' 'East Orlando' 'East Orange County'\n",
      " 'Lake Oswego/Tualatin/Wilsonville' 'Renton' 'Central San Mateo County'\n",
      " 'Salinas' 'Lake Worth/Greenacres/Wellington' 'North St. Petersburg'\n",
      " 'Woodbridge/Dale City' 'Manassas/Far Southwest Suburbs'\n",
      " 'Southwest Austin' 'University' 'Brandon/Southeast Hillsborough County'\n",
      " 'Clearwater' 'Temple Terrace' 'East Anaheim/Orange'\n",
      " 'Southeast Los Angeles' 'Santa Clara' 'Mountain View/Palo Alto/Los Altos'\n",
      " 'Marin County' 'Downtown San Francisco' 'Wheaton/Aspen Hill'\n",
      " 'Columbia Pike' 'Sanford/Lake Mary' 'Casselberry/Winter Springs/Oviedo'\n",
      " 'Altamonte Springs/Apopka' 'Winter Park/Maitland' 'Chesterfield County'\n",
      " 'Hermitage/Mount Juliet/Lebanon' 'Franklin/Brentwood' 'Sumner County'\n",
      " 'North Nashville' 'South Nashville' 'West Nashville' 'Cedar Park'\n",
      " 'Kirkland/Bothell' 'Navy Yard/Capitol South' 'Rancho Cucamonga/Upland'\n",
      " 'University District/Ballard' 'Hanover County' 'Tuckahoe/Westhampton'\n",
      " 'Northwest Richmond' 'North Pinellas County' 'East Alexandria'\n",
      " 'Far North Baltimore Suburbs' 'East Nashville' 'Intown Dallas'\n",
      " 'West Bellevue/Mercer Island' 'Central DC' 'Addison/Bent Tree'\n",
      " 'South Fairfax County' 'Santa Monica/Marina del Rey' 'Towson/Hunt Valley'\n",
      " 'West Plano' 'SoMa' 'Everett' 'South San Jose' 'North Central Austin'\n",
      " 'Central Tampa' 'Baltimore City East' 'Quincy' 'West Norfolk County'\n",
      " 'North Arlington' 'Lowell' 'Downtown San Diego/Coronado'\n",
      " 'South Essex County' 'East Middlesex County' 'Lower West Side'\n",
      " 'Midtown East' 'Financial District' 'College Park/Greenbelt'\n",
      " 'Mission Viejo/Lake Forest' 'Intown Boston'\n",
      " 'Five Points/Capitol Hill/Cherry Creek' 'West Seattle/South Seattle'\n",
      " 'Reston/Herndon' 'West Alexandria' 'Downtown Silver Spring' 'Redmond'\n",
      " 'Brooklyn' 'Norristown/Upper Merion/Lower Merion' 'Baltimore City North'\n",
      " 'Waltham/Newton/Lexington' 'Bergen County']\n",
      "X16: [nan '2016-01-18' '2016-02-22' ... '2015-06-13' '2015-08-27' '2015-09-20']\n",
      "X164: ['Riverside-San Bernardino-Ontario, CA' 'Anaheim-Santa Ana-Irvine, CA'\n",
      " 'Orlando-Kissimmee-Sanford, FL' 'Portland-Vancouver-Hillsboro, OR-WA'\n",
      " 'Seattle-Bellevue-Everett, WA'\n",
      " 'San Francisco-Redwood City-South San Francisco, CA' 'Salinas, CA'\n",
      " 'West Palm Beach-Boca Raton-Delray Beach, FL'\n",
      " 'Tampa-St. Petersburg-Clearwater, FL'\n",
      " 'Washington-Arlington-Alexandria, DC-VA-MD-WV' 'Austin-Round Rock, TX'\n",
      " 'Los Angeles-Long Beach-Glendale, CA'\n",
      " 'San Jose-Sunnyvale-Santa Clara, CA' 'Richmond, VA'\n",
      " 'Nashville-Davidson--Murfreesboro--Franklin, TN'\n",
      " 'Baltimore-Columbia-Towson, MD' 'Dallas-Plano-Irving, TX'\n",
      " 'Boston-Cambridge-Newton, MA-NH' 'San Diego-Carlsbad, CA'\n",
      " 'New York-White Plains, NY' 'Denver-Aurora-Lakewood, CO'\n",
      " 'Philadelphia-Camden-Wilmington, PA-NJ-DE-MD' nan]\n",
      "X165: ['University City/Moreno Valley' 'Huntington Beach' 'Costa Mesa'\n",
      " 'Newport Beach' 'East Orlando' 'East Orange County'\n",
      " 'Lake Oswego/Tualatin/Wilsonville' 'Renton' 'Central San Mateo County'\n",
      " 'Salinas' 'Lake Worth/Greenacres/Wellington' 'North St. Petersburg'\n",
      " 'Woodbridge/Dale City' 'Manassas/Far Southwest Suburbs'\n",
      " 'Southwest Austin' 'University' 'Brandon/Southeast Hillsborough County'\n",
      " 'Clearwater' 'Temple Terrace' 'East Anaheim/Orange'\n",
      " 'Southeast Los Angeles' 'Santa Clara' 'Mountain View/Palo Alto/Los Altos'\n",
      " 'Marin County' 'Downtown San Francisco' 'Wheaton/Aspen Hill'\n",
      " 'Columbia Pike' 'Sanford/Lake Mary' 'Casselberry/Winter Springs/Oviedo'\n",
      " 'Altamonte Springs/Apopka' 'Winter Park/Maitland' 'Chesterfield County'\n",
      " 'Hermitage/Mount Juliet/Lebanon' 'Franklin/Brentwood' 'Sumner County'\n",
      " 'North Nashville' 'South Nashville' 'West Nashville' 'Cedar Park'\n",
      " 'Kirkland/Bothell' 'Navy Yard/Capitol South' 'Rancho Cucamonga/Upland'\n",
      " 'University District/Ballard' 'Hanover County' 'Tuckahoe/Westhampton'\n",
      " 'Northwest Richmond' 'North Pinellas County' 'East Alexandria'\n",
      " 'Far North Baltimore Suburbs' 'East Nashville' 'Intown Dallas'\n",
      " 'West Bellevue/Mercer Island' 'Central DC' 'Addison/Bent Tree'\n",
      " 'South Fairfax County' 'Santa Monica/Marina del Rey' 'Towson/Hunt Valley'\n",
      " 'West Plano' 'SoMa' 'Everett' 'South San Jose' 'North Central Austin'\n",
      " 'Central Tampa' 'Baltimore City East' 'Quincy' 'West Norfolk County'\n",
      " 'North Arlington' 'Lowell' 'Downtown San Diego/Coronado'\n",
      " 'South Essex County' 'East Middlesex County' 'Lower West Side'\n",
      " 'Midtown East' 'Financial District' 'College Park/Greenbelt'\n",
      " 'Mission Viejo/Lake Forest' 'Intown Boston'\n",
      " 'Five Points/Capitol Hill/Cherry Creek' 'West Seattle/South Seattle'\n",
      " 'Reston/Herndon' 'West Alexandria' 'Downtown Silver Spring' 'Redmond'\n",
      " 'Brooklyn' 'Norristown/Upper Merion/Lower Merion' 'Baltimore City North'\n",
      " 'Waltham/Newton/Lexington' nan]\n",
      "X169: ['2015-Q1' '2015-Q2' '2015-Q3' '2015-Q4' '2016-Q1' '2016-Q2' '2016-Q3'\n",
      " '2016-Q4' '2017-Q1' '2017-Q2' '2017-Q3' '2017-Q4' '2018-Q1' '2018-Q2'\n",
      " '2018-Q3' '2018-Q4' '2019-Q1' '2019-Q2' '2019-Q3' '2019-Q4' '2020-Q1'\n",
      " '2020-Q2' '2020-Q3' '2020-Q4' '2021-Q1' '2021-Q2' nan]\n",
      "X170: ['2015-01-01' '2015-04-01' '2015-07-01' '2015-10-01' '2016-01-01'\n",
      " '2016-04-01' '2016-07-01' '2016-10-01' '2017-01-01' '2017-04-01'\n",
      " '2017-07-01' '2017-10-01' '2018-01-01' '2018-04-01' '2018-07-01'\n",
      " '2018-10-01' '2019-01-01' '2019-04-01' '2019-07-01' '2019-10-01'\n",
      " '2020-01-01' '2020-04-01' '2020-07-01' '2020-10-01' '2021-01-01'\n",
      " '2021-04-01' nan]\n",
      "X18: ['1-3 years' '6-12 months']\n",
      "X2: ['2015-01-08' '2015-01-24' '2015-02-20' ... '2021-03-09' '2021-05-02'\n",
      " '2021-04-28']\n",
      "X3: ['2016-02-28' '2016-01-17' '2016-02-21' ... '2021-10-28' '2021-01-22'\n",
      " '2022-06-26']\n",
      "X30: ['2015-01-08' '2015-01-24' '2015-02-20' ... '2021-03-09' '2021-05-02'\n",
      " '2021-04-28']\n",
      "X31: ['2015-07-30' '2016-01-17' '2016-02-21' ... '2015-04-13' '2015-02-08'\n",
      " '2015-03-06']\n",
      "X4: ['2015-07-30' nan '2016-02-21' ... '2015-04-13' '2015-02-08' '2015-03-06']\n",
      "X5: ['2015-01-08' '2003-09-11' '2015-02-20' ... '2005-08-03' '2007-03-28'\n",
      " '2021-04-28']\n",
      "X6: ['2015-01-08' '2003-09-11' '2015-02-20' ... '2005-08-03' '2007-03-28'\n",
      " '2021-04-28']\n",
      "X7: ['2015-07-30' nan '2016-04-04' ... '2015-04-13' '2015-02-08' '2015-03-06']\n",
      "X8: ['2015-07-01' nan '2016-03-02' ... '2015-01-07' '2015-03-29' '2016-11-24']\n",
      "X9: [nan '2016-04-04' '2016-01-04' ... '2016-07-08' '2016-02-13' '2020-01-16']\n",
      "X99: [nan 'Full Time Homemaker' 'Professional' 'Service Industry' 'Retired'\n",
      " 'Medical' 'Transportation' 'Student' 'Finance / Accounting'\n",
      " 'Manufacturing' 'Construction' 'Law Enforcement' 'Unemployed - looking'\n",
      " 'Agriculture' 'Retail / Sales' 'Military' 'Education ' 'Technology'\n",
      " 'Not applicable' 'Real Estate' 'Government' 'Insurance'\n",
      " 'Entertainment Industry' 'Utilities' 'Minor-Child' 'Mining'\n",
      " 'Full time homemaker' 'Retail Sales' 'Unemployed' 'Accounting'\n",
      " 'Minor Child' 'Medical / Healthcare' 'Legal' 'Hospitality'\n",
      " 'Sports / Athlete' 'Hotel industry' 'Restaurant industry' 'Self-employed'\n",
      " 'Arts And entertainment' 'Fulltime Police/Security']\n"
     ]
    }
   ],
   "source": [
    "# print unique values in categorical columns\n",
    "for col in categorical_cols:\n",
    "    print(f\"{col}: {df[col].unique()}\")"
   ]
  },
  {
   "cell_type": "code",
   "execution_count": 10,
   "id": "f8719bc3",
   "metadata": {},
   "outputs": [
    {
     "name": "stdout",
     "output_type": "stream",
     "text": [
      "Unique values in X0 after cleaning sorted:\n",
      "['1 month lease', '10 month lease', '11 month lease', '12 month lease', '13 month lease', '14 month lease', '15 month lease', '16 month lease', '17 month lease', '18 month lease', '2 month lease', '24 month lease', '3 month lease', '4 month lease', '5 month lease', '6 month lease', '7 month lease', '8 month lease', '9 month lease']\n"
     ]
    }
   ],
   "source": [
    "def clean_lease_type(val):\n",
    "    if pd.isna(val):\n",
    "        return 'unknown'\n",
    "    \n",
    "    # Convert to lowercase\n",
    "    val = val.lower()\n",
    "    \n",
    "    # Replace common typos and synonyms\n",
    "    val = val.replace('term', 'lease')            # 'term' -> 'lease'\n",
    "    val = val.replace('months', 'month')          # plural -> singular\n",
    "    val = val.replace('monh', 'month')            # typo fix\n",
    "    val = val.replace('  ', ' ')                  # double space\n",
    "    val = re.sub(r'\\s+', ' ', val).strip()        # cleanup whitespace\n",
    "    val = re.sub(r'[^a-z0-9 ]', '', val)          # remove punctuation, stray characters\n",
    "\n",
    "    # Extract numeric duration\n",
    "    match = re.search(r'(\\d{1,2})\\s*month', val)\n",
    "    if match:\n",
    "        months = match.group(1)\n",
    "        return f'{int(months)} month lease'\n",
    "    \n",
    "    # If the string only has a number (like '12')\n",
    "    match_num = re.search(r'(\\d{1,2})', val)\n",
    "    if match_num:\n",
    "        months = match_num.group(1)\n",
    "        return f'{int(months)} month lease'\n",
    "\n",
    "    return 'unknown'\n",
    "\n",
    "df['X0'] = df['X0'].astype(str).apply(clean_lease_type)\n",
    "print(\"Unique values in X0 after cleaning sorted:\")\n",
    "print(sorted(df['X0'].unique()))"
   ]
  },
  {
   "cell_type": "code",
   "execution_count": 11,
   "id": "57582124",
   "metadata": {},
   "outputs": [
    {
     "name": "stdout",
     "output_type": "stream",
     "text": [
      "Date Columns: ['X16', 'X170', 'X2', 'X3', 'X30', 'X31', 'X4', 'X5', 'X6', 'X7', 'X8', 'X9']\n"
     ]
    }
   ],
   "source": [
    "date_cols = []\n",
    "# Date column detection (if needed) format 01-01-2015\n",
    "for col in categorical_cols:\n",
    "    try:\n",
    "        sample= df[col].dropna().astype(str).str.strip()\n",
    "        if sample.str.match(r\"\\d{4}-\\d{2}-\\d{2}\").all():\n",
    "                date_cols.append(col)\n",
    "    except:\n",
    "        continue\n",
    "print(\"Date Columns:\", date_cols)"
   ]
  },
  {
   "cell_type": "code",
   "execution_count": 12,
   "id": "e9dbce2e",
   "metadata": {},
   "outputs": [],
   "source": [
    "for col in date_cols:\n",
    "    df[col] = pd.to_datetime(df[col], errors='coerce')\n",
    "    df[f'{col}_year'] = df[col].dt.year\n",
    "    df[f'{col}_month'] = df[col].dt.month\n",
    "    df.drop(columns=col, inplace=True)"
   ]
  },
  {
   "cell_type": "code",
   "execution_count": 13,
   "id": "9f9e5f1c",
   "metadata": {},
   "outputs": [],
   "source": [
    "categorical_cols = [col for col in categorical_cols if col not in date_cols]"
   ]
  },
  {
   "cell_type": "code",
   "execution_count": null,
   "id": "fa28942c",
   "metadata": {},
   "outputs": [],
   "source": [
    "# Encode categorical columns\n",
    "label_encoders = {}\n",
    "for col in categorical_cols:\n",
    "    le = LabelEncoder()\n",
    "    df[col] = le.fit_transform(df[col].astype(str))\n",
    "    label_encoders[col] = le"
   ]
  },
  {
   "cell_type": "code",
   "execution_count": 15,
   "id": "81ed8e6a",
   "metadata": {},
   "outputs": [],
   "source": [
    "# Feature Selection & Cleanup\n",
    "X = df.drop(columns=exclude_cols)\n",
    "y = df['Target_ChurnFlag']"
   ]
  },
  {
   "cell_type": "code",
   "execution_count": 16,
   "id": "d88585ab",
   "metadata": {},
   "outputs": [
    {
     "name": "stdout",
     "output_type": "stream",
     "text": [
      "X11           167020\n",
      "X85            37511\n",
      "X16_year       66919\n",
      "X16_month      66919\n",
      "X170_year        145\n",
      "X170_month       145\n",
      "X4_year        84400\n",
      "X4_month       84400\n",
      "X7_year        92761\n",
      "X7_month       92761\n",
      "X8_year        95579\n",
      "X8_month       95579\n",
      "X9_year       158340\n",
      "X9_month      158340\n",
      "dtype: int64\n"
     ]
    }
   ],
   "source": [
    "# Check blanks for each column\n",
    "blanks = df.isnull().sum()\n",
    "print(blanks[blanks > 0])"
   ]
  },
  {
   "cell_type": "code",
   "execution_count": 17,
   "id": "d2b37891",
   "metadata": {},
   "outputs": [],
   "source": [
    "# Fill missing values\n",
    "X = X.fillna(X.median(numeric_only=True))"
   ]
  },
  {
   "cell_type": "code",
   "execution_count": 18,
   "id": "0071b82c",
   "metadata": {},
   "outputs": [
    {
     "name": "stdout",
     "output_type": "stream",
     "text": [
      "X11    167020\n",
      "dtype: int64\n"
     ]
    }
   ],
   "source": [
    "# Check for any remaining blanks\n",
    "blanks = X.isnull().sum()\n",
    "print(blanks[blanks > 0])"
   ]
  },
  {
   "cell_type": "code",
   "execution_count": 19,
   "id": "51b1db39",
   "metadata": {},
   "outputs": [],
   "source": [
    "# Drop X11 as it is completely empty\n",
    "if 'X11' in X.columns:\n",
    "    X.drop(columns=['X11'], inplace=True)"
   ]
  },
  {
   "cell_type": "code",
   "execution_count": 20,
   "id": "ee12c913",
   "metadata": {},
   "outputs": [
    {
     "name": "stdout",
     "output_type": "stream",
     "text": [
      "Series([], dtype: int64)\n"
     ]
    }
   ],
   "source": [
    "# Check for any remaining blanks\n",
    "blanks = X.isnull().sum()\n",
    "print(blanks[blanks > 0])"
   ]
  },
  {
   "cell_type": "code",
   "execution_count": 21,
   "id": "0ea1ddd3",
   "metadata": {},
   "outputs": [],
   "source": [
    "# Save the cleaned DataFrame\n",
    "X.to_csv(\"cleaned_deepq_ai_assignment1_data.csv\", index=False)"
   ]
  },
  {
   "cell_type": "code",
   "execution_count": 22,
   "id": "43ffae0b",
   "metadata": {},
   "outputs": [],
   "source": [
    "# Suspicious categories (mean = 0 or 1)\n",
    "for col in categorical_cols:\n",
    "    df_counts = df.groupby(col)['Target_ChurnFlag'].agg(['mean', 'count'])\n",
    "    suspicious = df_counts[(df_counts['mean'].isin([0.0, 1.0])) & (df_counts['count'] > 5)]\n",
    "    if not suspicious.empty:\n",
    "        print(f\"Suspicious categories in {col}:\\n{suspicious}\\n\")"
   ]
  },
  {
   "cell_type": "code",
   "execution_count": 23,
   "id": "704b663a",
   "metadata": {},
   "outputs": [
    {
     "name": "stdout",
     "output_type": "stream",
     "text": [
      "Target_ChurnFlag    1.000000\n",
      "X5_year             0.134143\n",
      "X6_year             0.134142\n",
      "X22                 0.095738\n",
      "X85                 0.080301\n",
      "                      ...   \n",
      "X149                     NaN\n",
      "X186                     NaN\n",
      "X189                     NaN\n",
      "X16_year                 NaN\n",
      "X16_month                NaN\n",
      "Name: Target_ChurnFlag, Length: 228, dtype: float64\n",
      "X0 - Target Mean by Category:\n",
      " X0\n",
      "0     0.000000\n",
      "1     0.425087\n",
      "2     0.444013\n",
      "3     0.378055\n",
      "4     0.439150\n",
      "5     0.455224\n",
      "6     0.435476\n",
      "7     0.450000\n",
      "8     0.500000\n",
      "9     1.000000\n",
      "10    0.545455\n",
      "11    0.333333\n",
      "12    0.408257\n",
      "13    0.709677\n",
      "14    0.352941\n",
      "15    0.469136\n",
      "16    0.307692\n",
      "17    0.321429\n",
      "18    0.453608\n",
      "Name: Target_ChurnFlag, dtype: float64\n",
      "X100 - Target Mean by Category:\n",
      " X100\n",
      "0     0.666667\n",
      "1     0.284956\n",
      "2     0.416667\n",
      "3     0.388506\n",
      "4     0.408917\n",
      "5     0.392252\n",
      "6     0.448565\n",
      "7     0.365053\n",
      "8     0.800000\n",
      "9     0.384774\n",
      "10    0.343434\n",
      "11    0.333333\n",
      "12    0.425926\n",
      "13    0.441989\n",
      "14    0.388889\n",
      "15    0.456274\n",
      "16    0.412263\n",
      "17    0.386617\n",
      "18    0.471390\n",
      "19    0.375000\n",
      "20    0.254386\n",
      "21    0.398148\n",
      "22    0.414149\n",
      "23    0.418831\n",
      "24    0.426230\n",
      "25    0.428268\n",
      "26    0.339623\n",
      "27    0.256435\n",
      "28    0.427481\n",
      "29    0.408963\n",
      "30    0.473684\n",
      "31    0.453934\n",
      "32    0.429565\n",
      "33    0.413793\n",
      "34    0.340836\n",
      "35    0.353604\n",
      "36    0.375000\n",
      "37    0.399742\n",
      "Name: Target_ChurnFlag, dtype: float64\n",
      "X108 - Target Mean by Category:\n",
      " X108\n",
      "0     0.666667\n",
      "1     0.299270\n",
      "2     0.534884\n",
      "3     0.391444\n",
      "4     0.423496\n",
      "5     0.395785\n",
      "6     0.416693\n",
      "7     0.369149\n",
      "8     0.588235\n",
      "9     0.400000\n",
      "10    0.391001\n",
      "11    0.379310\n",
      "12    0.370370\n",
      "13    0.442886\n",
      "14    0.430693\n",
      "15    0.411392\n",
      "16    0.410142\n",
      "17    0.406837\n",
      "18    0.382812\n",
      "19    0.500000\n",
      "20    0.391304\n",
      "21    0.000000\n",
      "22    0.280556\n",
      "23    0.414318\n",
      "24    0.393962\n",
      "25    0.435241\n",
      "26    0.439759\n",
      "27    0.430024\n",
      "28    0.467742\n",
      "29    0.226607\n",
      "30    0.432836\n",
      "31    0.406587\n",
      "32    0.553191\n",
      "33    0.463113\n",
      "34    0.419994\n",
      "35    0.378076\n",
      "36    0.385281\n",
      "37    0.364279\n",
      "38    0.350711\n",
      "39    0.397641\n",
      "Name: Target_ChurnFlag, dtype: float64\n",
      "X149 - Target Mean by Category:\n",
      " X149\n",
      "0    0.400665\n",
      "Name: Target_ChurnFlag, dtype: float64\n",
      "X150 - Target Mean by Category:\n",
      " X150\n",
      "0     0.449307\n",
      "1     0.333333\n",
      "2     0.433369\n",
      "3     0.432882\n",
      "4     0.374704\n",
      "        ...   \n",
      "73    0.359651\n",
      "74    0.440898\n",
      "75    0.301790\n",
      "76    0.404856\n",
      "77    0.373951\n",
      "Name: Target_ChurnFlag, Length: 78, dtype: float64\n",
      "X151 - Target Mean by Category:\n",
      " X151\n",
      "0     0.434868\n",
      "1     0.435754\n",
      "2     0.359651\n",
      "3     0.418012\n",
      "4     0.352931\n",
      "5     0.374679\n",
      "6     0.413793\n",
      "7     0.399785\n",
      "8     0.392874\n",
      "9     0.388988\n",
      "10    0.390614\n",
      "11    0.412566\n",
      "12    0.355743\n",
      "13    0.422778\n",
      "Name: Target_ChurnFlag, dtype: float64\n",
      "X152 - Target Mean by Category:\n",
      " X152\n",
      "0      0.404856\n",
      "1      0.401881\n",
      "2      0.337812\n",
      "3      0.291488\n",
      "4      0.429972\n",
      "         ...   \n",
      "130    0.364666\n",
      "131    0.541506\n",
      "132    0.423457\n",
      "133    0.456522\n",
      "134    0.439024\n",
      "Name: Target_ChurnFlag, Length: 135, dtype: float64\n",
      "X154 - Target Mean by Category:\n",
      " X154\n",
      "0     0.366843\n",
      "1     0.377614\n",
      "2     0.352931\n",
      "3     0.429877\n",
      "4     0.435754\n",
      "5     0.424488\n",
      "6     0.355526\n",
      "7     0.386440\n",
      "8     0.390614\n",
      "9     0.400139\n",
      "10    0.454959\n",
      "11    0.430224\n",
      "12    0.355887\n",
      "13    0.415744\n",
      "14    0.388988\n",
      "15    0.392874\n",
      "16    0.370456\n",
      "17    0.441724\n",
      "18    0.416667\n",
      "19    0.422778\n",
      "20    0.421151\n",
      "Name: Target_ChurnFlag, dtype: float64\n",
      "X155 - Target Mean by Category:\n",
      " X155\n",
      "0    0.417484\n",
      "1    0.392093\n",
      "Name: Target_ChurnFlag, dtype: float64\n",
      "X156 - Target Mean by Category:\n",
      " X156\n",
      "0    0.391707\n",
      "1    0.419840\n",
      "2    0.367180\n",
      "Name: Target_ChurnFlag, dtype: float64\n",
      "X157 - Target Mean by Category:\n",
      " X157\n",
      "0    0.396316\n",
      "1    0.417500\n",
      "Name: Target_ChurnFlag, dtype: float64\n",
      "X158 - Target Mean by Category:\n",
      " X158\n",
      "0     0.449307\n",
      "1     0.433369\n",
      "2     0.407859\n",
      "3     0.350148\n",
      "4     0.413793\n",
      "        ...   \n",
      "83    0.398990\n",
      "84    0.431860\n",
      "85    0.311224\n",
      "86    0.440898\n",
      "87    0.373951\n",
      "Name: Target_ChurnFlag, Length: 88, dtype: float64\n",
      "X164 - Target Mean by Category:\n",
      " X164\n",
      "0     0.454959\n",
      "1     0.366843\n",
      "2     0.377614\n",
      "3     0.352931\n",
      "4     0.429877\n",
      "5     0.435754\n",
      "6     0.424488\n",
      "7     0.390614\n",
      "8     0.399785\n",
      "9     0.430224\n",
      "10    0.388988\n",
      "11    0.392874\n",
      "12    0.370456\n",
      "13    0.415744\n",
      "14    0.386440\n",
      "15    0.416667\n",
      "16    0.464973\n",
      "17    0.399735\n",
      "18    0.422778\n",
      "19    0.421151\n",
      "20    0.355526\n",
      "21    0.355887\n",
      "22    0.413793\n",
      "Name: Target_ChurnFlag, dtype: float64\n",
      "X165 - Target Mean by Category:\n",
      " X165\n",
      "0     0.449307\n",
      "1     0.433369\n",
      "2     0.407859\n",
      "3     0.350148\n",
      "4     0.427386\n",
      "        ...   \n",
      "83    0.431860\n",
      "84    0.311224\n",
      "85    0.440898\n",
      "86    0.373951\n",
      "87    0.413793\n",
      "Name: Target_ChurnFlag, Length: 88, dtype: float64\n",
      "X169 - Target Mean by Category:\n",
      " X169\n",
      "0     0.392180\n",
      "1     0.415632\n",
      "2     0.424027\n",
      "3     0.408339\n",
      "4     0.403831\n",
      "5     0.411393\n",
      "6     0.414614\n",
      "7     0.389194\n",
      "8     0.398615\n",
      "9     0.415202\n",
      "10    0.403644\n",
      "11    0.366824\n",
      "12    0.370192\n",
      "13    0.398195\n",
      "14    0.390948\n",
      "15    0.348057\n",
      "16    0.341030\n",
      "17    0.363236\n",
      "18    0.412189\n",
      "19    0.395898\n",
      "20    0.402854\n",
      "21    0.434604\n",
      "22    0.791031\n",
      "23    0.804627\n",
      "24    0.737931\n",
      "25    0.347826\n",
      "26    0.413793\n",
      "Name: Target_ChurnFlag, dtype: float64\n",
      "X18 - Target Mean by Category:\n",
      " X18\n",
      "0    0.444429\n",
      "1    0.382162\n",
      "Name: Target_ChurnFlag, dtype: float64\n",
      "X99 - Target Mean by Category:\n",
      " X99\n",
      "0     0.666667\n",
      "1     0.309154\n",
      "2     0.538462\n",
      "3     0.387329\n",
      "4     0.429315\n",
      "5     0.401244\n",
      "6     0.399828\n",
      "7     0.333333\n",
      "8     0.375000\n",
      "9     0.400000\n",
      "10    0.390661\n",
      "11    0.390411\n",
      "12    0.375000\n",
      "13    0.437500\n",
      "14    0.437063\n",
      "15    0.426087\n",
      "16    0.396584\n",
      "17    0.408786\n",
      "18    0.383420\n",
      "19    0.503538\n",
      "20    0.411765\n",
      "21    0.000000\n",
      "22    0.362069\n",
      "23    0.416382\n",
      "24    0.393298\n",
      "25    0.449679\n",
      "26    0.440367\n",
      "27    0.435098\n",
      "28    0.562500\n",
      "29    0.209571\n",
      "30    0.398374\n",
      "31    0.412935\n",
      "32    0.525000\n",
      "33    0.474314\n",
      "34    0.421840\n",
      "35    0.372607\n",
      "36    0.392857\n",
      "37    0.389610\n",
      "38    0.373239\n",
      "39    0.397884\n",
      "Name: Target_ChurnFlag, dtype: float64\n"
     ]
    }
   ],
   "source": [
    "# Correlation with target (for numeric/categorical)\n",
    "corrs = df.corr(numeric_only=True)['Target_ChurnFlag'].sort_values(ascending=False)\n",
    "print(corrs)\n",
    "\n",
    "# For categorical: check groupby mean\n",
    "for col in categorical_cols:\n",
    "    print(f\"{col} - Target Mean by Category:\\n\", df.groupby(col)['Target_ChurnFlag'].mean())"
   ]
  },
  {
   "cell_type": "code",
   "execution_count": 24,
   "id": "c8668e9f",
   "metadata": {},
   "outputs": [],
   "source": [
    "# Save final feature columns\n",
    "feature_columns = X.columns.tolist()"
   ]
  },
  {
   "cell_type": "markdown",
   "id": "18ebd0ad",
   "metadata": {},
   "source": [
    "### Scaling & Split"
   ]
  },
  {
   "cell_type": "code",
   "execution_count": null,
   "id": "3114be3a",
   "metadata": {},
   "outputs": [],
   "source": [
    "scaler = StandardScaler()\n",
    "X_scaled = scaler.fit_transform(X)\n",
    "\n",
    "X_train, X_test, y_train, y_test = train_test_split(\n",
    "    X_scaled, y, test_size=0.2, random_state=42, stratify=y\n",
    ")"
   ]
  },
  {
   "cell_type": "markdown",
   "id": "e6d557f8",
   "metadata": {},
   "source": [
    "### Model Training & Evaluation"
   ]
  },
  {
   "cell_type": "code",
   "execution_count": 26,
   "id": "9c285355",
   "metadata": {},
   "outputs": [
    {
     "name": "stdout",
     "output_type": "stream",
     "text": [
      "\n",
      "Model: Logistic Regression\n",
      "              precision    recall  f1-score   support\n",
      "\n",
      "           0       0.98      0.96      0.97     20020\n",
      "           1       0.94      0.98      0.96     13384\n",
      "\n",
      "    accuracy                           0.97     33404\n",
      "   macro avg       0.96      0.97      0.97     33404\n",
      "weighted avg       0.97      0.97      0.97     33404\n",
      "\n",
      "ROC-AUC Score: 0.968114103469752\n",
      "\n",
      "Model: Random Forest\n",
      "              precision    recall  f1-score   support\n",
      "\n",
      "           0       1.00      1.00      1.00     20020\n",
      "           1       1.00      1.00      1.00     13384\n",
      "\n",
      "    accuracy                           1.00     33404\n",
      "   macro avg       1.00      1.00      1.00     33404\n",
      "weighted avg       1.00      1.00      1.00     33404\n",
      "\n",
      "ROC-AUC Score: 0.9994505494505495\n",
      "[LightGBM] [Info] Number of positive: 53535, number of negative: 80081\n",
      "[LightGBM] [Info] Auto-choosing col-wise multi-threading, the overhead of testing was 0.072415 seconds.\n",
      "You can set `force_col_wise=true` to remove the overhead.\n",
      "[LightGBM] [Info] Total Bins 16915\n",
      "[LightGBM] [Info] Number of data points in the train set: 133616, number of used features: 204\n",
      "[LightGBM] [Info] [binary:BoostFromScore]: pavg=0.400663 -> initscore=-0.402703\n",
      "[LightGBM] [Info] Start training from score -0.402703\n",
      "\n",
      "Model: LightGBM\n",
      "              precision    recall  f1-score   support\n",
      "\n",
      "           0       1.00      1.00      1.00     20020\n",
      "           1       1.00      1.00      1.00     13384\n",
      "\n",
      "    accuracy                           1.00     33404\n",
      "   macro avg       1.00      1.00      1.00     33404\n",
      "weighted avg       1.00      1.00      1.00     33404\n",
      "\n",
      "ROC-AUC Score: 0.9995256835214994\n"
     ]
    },
    {
     "name": "stderr",
     "output_type": "stream",
     "text": [
      "c:\\Users\\hp\\Desktop\\Internship Assignments\\DeepQ-AI\\DeepQ-AI Hiring Process\\deepq_ai_assignment1_data\\env\\Lib\\site-packages\\sklearn\\utils\\validation.py:2749: UserWarning: X does not have valid feature names, but LGBMClassifier was fitted with feature names\n",
      "  warnings.warn(\n"
     ]
    }
   ],
   "source": [
    "models = {\n",
    "    \"Logistic Regression\": LogisticRegression(max_iter=1000),\n",
    "    \"Random Forest\": RandomForestClassifier(n_estimators=100),\n",
    "    \"LightGBM\": LGBMClassifier()\n",
    "}\n",
    "\n",
    "results = {}\n",
    "\n",
    "for name, model in models.items():\n",
    "    model.fit(X_train, y_train)\n",
    "    y_pred = model.predict(X_test)\n",
    "    roc_score = roc_auc_score(y_test, y_pred)\n",
    "    results[name] = {\n",
    "        \"model\": model,\n",
    "        \"report\": classification_report(y_test, y_pred, output_dict=True),\n",
    "        \"roc_auc\": roc_score,\n",
    "        \"conf_matrix\": confusion_matrix(y_test, y_pred)\n",
    "    }\n",
    "    print(f\"\\nModel: {name}\")\n",
    "    print(classification_report(y_test, y_pred))\n",
    "    print(\"ROC-AUC Score:\", roc_score)\n"
   ]
  },
  {
   "cell_type": "markdown",
   "id": "495286f6",
   "metadata": {},
   "source": [
    "### Save Best Model and Other Artifacts"
   ]
  },
  {
   "cell_type": "code",
   "execution_count": 27,
   "id": "baecf9f0",
   "metadata": {},
   "outputs": [
    {
     "name": "stdout",
     "output_type": "stream",
     "text": [
      "Best:  LightGBM\n"
     ]
    }
   ],
   "source": [
    "# Save Best Model\n",
    "best_model_name = max(results, key=lambda k: results[k]['roc_auc'])\n",
    "best_model = results[best_model_name]['model']\n",
    "\n",
    "os.makedirs(\"artifacts\", exist_ok=True)\n",
    "\n",
    "with open(\"artifacts/model.pkl\", \"wb\") as f:\n",
    "    pickle.dump(best_model, f)\n",
    "\n",
    "# Save all models\n",
    "# for name, result in results.items():\n",
    "#     with open(f\"artifacts/{name.replace(' ', '_').lower()}_model.pkl\", \"wb\") as f:\n",
    "#         pickle.dump(result['model'], f)\n",
    "# print(\"Best: \", best_model_name)\n",
    "\n",
    "with open(\"artifacts/scaler.pkl\", \"wb\") as f:\n",
    "    pickle.dump(scaler, f)\n",
    "\n",
    "with open(\"artifacts/label_encoders.pkl\", \"wb\") as f:\n",
    "    pickle.dump(label_encoders, f)\n",
    "\n",
    "with open(\"artifacts/feature_columns.pkl\", \"wb\") as f:\n",
    "    pickle.dump(feature_columns, f)"
   ]
  },
  {
   "cell_type": "markdown",
   "id": "78adba6c",
   "metadata": {},
   "source": [
    "### Visualization (Feature Importances & ROC)"
   ]
  },
  {
   "cell_type": "code",
   "execution_count": 28,
   "id": "6e473442",
   "metadata": {},
   "outputs": [
    {
     "data": {
      "image/png": "[encoded data removed]",
      "text/plain": [
       "<Figure size 1000x600 with 1 Axes>"
      ]
     },
     "metadata": {},
     "output_type": "display_data"
    },
    {
     "name": "stderr",
     "output_type": "stream",
     "text": [
      "c:\\Users\\hp\\Desktop\\Internship Assignments\\DeepQ-AI\\DeepQ-AI Hiring Process\\deepq_ai_assignment1_data\\env\\Lib\\site-packages\\sklearn\\utils\\validation.py:2749: UserWarning: X does not have valid feature names, but LGBMClassifier was fitted with feature names\n",
      "  warnings.warn(\n"
     ]
    },
    {
     "data": {
      "image/png": "[encoded data removed]",
      "text/plain": [
       "<Figure size 800x500 with 1 Axes>"
      ]
     },
     "metadata": {},
     "output_type": "display_data"
    }
   ],
   "source": [
    "if hasattr(best_model, 'feature_importances_'):\n",
    "    importances = best_model.feature_importances_\n",
    "    indices = np.argsort(importances)[-10:][::-1]\n",
    "    top_features = X.columns[indices]\n",
    "\n",
    "    plt.figure(figsize=(10, 6))\n",
    "    sns.barplot(x=importances[indices], y=top_features)\n",
    "    plt.title(\"Top 10 Feature Importances\")\n",
    "    plt.show()\n",
    "\n",
    "if hasattr(best_model, \"predict_proba\"):\n",
    "    y_probs = best_model.predict_proba(X_test)[:, 1]\n",
    "    fpr, tpr, _ = roc_curve(y_test, y_probs)\n",
    "    plt.figure(figsize=(8, 5))\n",
    "    plt.plot(fpr, tpr, label=f\"{best_model_name} (AUC = {roc_auc_score(y_test, y_probs):.2f})\")\n",
    "    plt.plot([0, 1], [0, 1], linestyle=\"--\")\n",
    "    plt.xlabel(\"False Positive Rate\")\n",
    "    plt.ylabel(\"True Positive Rate\")\n",
    "    plt.title(\"ROC Curve\")\n",
    "    plt.legend()\n",
    "    plt.grid()\n",
    "    plt.show()"
   ]
  },
  {
   "cell_type": "code",
   "execution_count": 29,
   "id": "8dd91719",
   "metadata": {},
   "outputs": [
    {
     "name": "stdout",
     "output_type": "stream",
     "text": [
      "CV ROC-AUC scores: [0.99996641 0.99994522 0.99985484 0.99992273 0.99978574]\n"
     ]
    }
   ],
   "source": [
    "# Validation\n",
    "from sklearn.model_selection import cross_val_score\n",
    "scores = cross_val_score(RandomForestClassifier(), X, y, cv=5, scoring='roc_auc')\n",
    "print(\"CV ROC-AUC scores:\", scores)"
   ]
  }
 ],
 "metadata": {
  "kernelspec": {
   "display_name": "env",
   "language": "python",
   "name": "python3"
  },
  "language_info": {
   "codemirror_mode": {
    "name": "ipython",
    "version": 3
   },
   "file_extension": ".py",
   "mimetype": "text/x-python",
   "name": "python",
   "nbconvert_exporter": "python",
   "pygments_lexer": "ipython3",
   "version": "3.12.8"
  }
 },
 "nbformat": 4,
 "nbformat_minor": 5
}
